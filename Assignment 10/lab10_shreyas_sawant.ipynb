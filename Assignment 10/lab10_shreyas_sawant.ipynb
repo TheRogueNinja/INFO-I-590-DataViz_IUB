{
  "cells": [
    {
      "cell_type": "markdown",
      "metadata": {
        "id": "SgJiu5yzFdCz"
      },
      "source": [
        "# Module 10: Logscale"
      ]
    },
    {
      "cell_type": "markdown",
      "metadata": {
        "id": "2BtMorhDGm5l"
      },
      "source": [
        "<table class=\"m10-notebook-buttons\" align=\"left\">\n",
        "  <td>\n",
        "    <a target=\"_blank\" href=\"https://colab.research.google.com/github/yy/dviz-course/blob/master/m10-logscale/m10-lab.ipynb\"><img src=\"https://www.tensorflow.org/images/colab_logo_32px.png\" />Run in Google Colab</a>\n",
        "  </td>\n",
        "  <td>\n",
        "    <a href=\"https://github.com/yy/dviz-course/blob/master/m10-logscale/m10-lab.ipynb\"><img src=\"https://www.tensorflow.org/images/GitHub-Mark-32px.png\" />View on Github</a>\n",
        "  </td>\n",
        "</table>"
      ]
    },
    {
      "cell_type": "markdown",
      "metadata": {
        "id": "7FXAQsnIGm5m"
      },
      "source": [
        "# Submission instructions\n",
        "## Your final submission should contain \n",
        "\n",
        "1. A .ipynb file of the entire notebook\n",
        "2. An html file of the entire notebook (see [here](https://github.com/yy/dviz-course/wiki/How-to-export-a-notebook-in-HTML) to convert .ipynb to .html)"
      ]
    },
    {
      "cell_type": "code",
      "execution_count": 1,
      "metadata": {
        "id": "NBIT7V1ZFdDE",
        "jupyter": {
          "outputs_hidden": false
        }
      },
      "outputs": [],
      "source": [
        "import matplotlib.pyplot as plt\n",
        "import pandas as pd\n",
        "import seaborn as sns\n",
        "import numpy as np\n",
        "import scipy.stats as ss\n",
        "import vega_datasets"
      ]
    },
    {
      "cell_type": "markdown",
      "metadata": {
        "id": "ajV9ZfvTFdDG"
      },
      "source": [
        "## Ratio and logarithm\n",
        "\n",
        "If you use linear scale to visualize ratios, it can be quite misleading.\n",
        "\n",
        "Let's first create some ratios."
      ]
    },
    {
      "cell_type": "code",
      "execution_count": 2,
      "metadata": {
        "id": "HVPIhx7pFdDG",
        "jupyter": {
          "outputs_hidden": false
        },
        "outputId": "783dd032-e62b-447a-e624-6df9b1917379",
        "colab": {
          "base_uri": "https://localhost:8080/"
        }
      },
      "outputs": [
        {
          "output_type": "stream",
          "name": "stdout",
          "text": [
            "[1.e-03 1.e-02 1.e-01 1.e+00 1.e+01 1.e+02 1.e+03]\n"
          ]
        }
      ],
      "source": [
        "x = np.array([1,    1,   1,  1, 10, 100, 1000])\n",
        "y = np.array([1000, 100, 10, 1, 1,  1,   1   ])\n",
        "ratio = x/y\n",
        "print(ratio)"
      ]
    },
    {
      "cell_type": "markdown",
      "metadata": {
        "id": "a3WyTujgFdDL"
      },
      "source": [
        "**Q: Plot on the linear scale using the [`scatter()`](http://matplotlib.org/examples/shapes_and_collections/scatter_demo.html) function. Also draw a horizontal line at ratio=1 for a reference.**"
      ]
    },
    {
      "cell_type": "code",
      "execution_count": 3,
      "metadata": {
        "id": "BrSt3CqOFdDM",
        "jupyter": {
          "outputs_hidden": false
        },
        "outputId": "8de063b2-52f8-41e3-98f5-9dce9fcec2c5",
        "colab": {
          "base_uri": "https://localhost:8080/",
          "height": 265
        }
      },
      "outputs": [
        {
          "output_type": "display_data",
          "data": {
            "text/plain": [
              "<Figure size 432x288 with 1 Axes>"
            ],
            "image/png": "[encoded data removed]"
          },
          "metadata": {
            "needs_background": "light"
          }
        }
      ],
      "source": [
        "X = np.arange(len(ratio))\n",
        "\n",
        "# Implement\n",
        "plt.scatter(X,ratio)\n",
        "plt.axhline(y = 1, color = 'r', linestyle = '-')\n",
        "plt.show()\n",
        "\n"
      ]
    },
    {
      "cell_type": "markdown",
      "metadata": {
        "id": "Nm1PVfZ1FdDN"
      },
      "source": [
        "**Q: Is this a good visualization of the ratio data? Why? Why not? Explain.**"
      ]
    },
    {
      "cell_type": "markdown",
      "source": [
        "This isn't an appropriate visualisation since we're trying to plot ratios on the graph as we all know that the ratios should always be plotted on a logarithematic scale.\n",
        "\n",
        "Hence we'll fix this by setting both X and Y scales as log scales. Please refer the below plot."
      ],
      "metadata": {
        "id": "inVOMsF6AVQL"
      }
    },
    {
      "cell_type": "markdown",
      "metadata": {
        "id": "NX186nMlFdDO"
      },
      "source": [
        "**Q: Can you fix it?**"
      ]
    },
    {
      "cell_type": "code",
      "execution_count": 4,
      "metadata": {
        "id": "LloZA8HpFdDO",
        "jupyter": {
          "outputs_hidden": false
        },
        "outputId": "27035894-a706-45e2-f283-09a76ebdc2c6",
        "colab": {
          "base_uri": "https://localhost:8080/",
          "height": 269
        }
      },
      "outputs": [
        {
          "output_type": "display_data",
          "data": {
            "text/plain": [
              "<Figure size 432x288 with 1 Axes>"
            ],
            "image/png": "[encoded data removed]"
          },
          "metadata": {
            "needs_background": "light"
          }
        }
      ],
      "source": [
        "# Implement\n",
        "plt.scatter(X,ratio)\n",
        "plt.axhline(y = 1, color = 'r', linestyle = '-')\n",
        "plt.xscale(\"log\")\n",
        "plt.yscale(\"log\")\n",
        "plt.show()"
      ]
    },
    {
      "cell_type": "markdown",
      "metadata": {
        "id": "YLw4Lf56FdDO"
      },
      "source": [
        "## Log-binning\n",
        "\n",
        "Let's first see what happens if we do not use the log scale for a dataset with a heavy tail. \n",
        "\n",
        "**Q: Load the movie dataset from `vega_datasets` and remove the NaN rows based on the following three columns: `IMDB_Rating`, `IMDB_Votes`, `Rotten_Tomatoes_Rating`.**"
      ]
    },
    {
      "cell_type": "code",
      "execution_count": 5,
      "metadata": {
        "id": "PPhPxPDkFdDP"
      },
      "outputs": [],
      "source": [
        "# TODO: Implement the functionality mentioned above \n",
        "import vega_datasets\n",
        "\n",
        "movies = vega_datasets.data.movies()\n",
        "movies.head()\n",
        "movies = movies.dropna(subset=['IMDB_Rating','Rotten_Tomatoes_Rating'])\n",
        "\n",
        "# The following code is just a dummy. You should load the correct dataset from vega_datasets package. "
      ]
    },
    {
      "cell_type": "markdown",
      "metadata": {
        "id": "yFKbNLzIFdDP"
      },
      "source": [
        "If you simply call `hist()` method with a dataframe object, it identifies all the numeric columns and draw a histogram for each. \n",
        "\n",
        "**Q: draw all possible histograms of the movie dataframe. Adjust the size of the plots if needed.**"
      ]
    },
    {
      "cell_type": "code",
      "execution_count": 6,
      "metadata": {
        "id": "HhNb318iFdDP",
        "jupyter": {
          "outputs_hidden": false
        },
        "outputId": "bac20278-5d9e-4493-a00e-9ff031c6261e",
        "colab": {
          "base_uri": "https://localhost:8080/",
          "height": 786
        }
      },
      "outputs": [
        {
          "output_type": "execute_result",
          "data": {
            "text/plain": [
              "array([[<matplotlib.axes._subplots.AxesSubplot object at 0x7f1570ac5b90>,\n",
              "        <matplotlib.axes._subplots.AxesSubplot object at 0x7f1570ace390>,\n",
              "        <matplotlib.axes._subplots.AxesSubplot object at 0x7f1570ad7310>],\n",
              "       [<matplotlib.axes._subplots.AxesSubplot object at 0x7f1570ae1310>,\n",
              "        <matplotlib.axes._subplots.AxesSubplot object at 0x7f15704103d0>,\n",
              "        <matplotlib.axes._subplots.AxesSubplot object at 0x7f1570419f90>],\n",
              "       [<matplotlib.axes._subplots.AxesSubplot object at 0x7f1570424b90>,\n",
              "        <matplotlib.axes._subplots.AxesSubplot object at 0x7f157042e350>,\n",
              "        <matplotlib.axes._subplots.AxesSubplot object at 0x7f157042e310>]],\n",
              "      dtype=object)"
            ]
          },
          "metadata": {},
          "execution_count": 6
        },
        {
          "output_type": "display_data",
          "data": {
            "text/plain": [
              "<Figure size 1080x720 with 9 Axes>"
            ],
            "image/png": "[encoded data removed]"
          },
          "metadata": {
            "needs_background": "light"
          }
        }
      ],
      "source": [
        "# Implement\n",
        "movies.hist(figsize=(15,10))"
      ]
    },
    {
      "cell_type": "markdown",
      "metadata": {
        "id": "ndkDy0fcFdDQ"
      },
      "source": [
        "As we can see, a majority of the columns are not normally distributed. In particular, if you look at the worldwide gross variable, you only see a couple of meaningful data from the histogram. Is this a problem of resolution? How about increasing the number of bins?"
      ]
    },
    {
      "cell_type": "code",
      "execution_count": 7,
      "metadata": {
        "id": "78aPqskwFdDQ",
        "outputId": "179853f3-4323-49d1-9921-0fb470a936c2",
        "colab": {
          "base_uri": "https://localhost:8080/",
          "height": 298
        }
      },
      "outputs": [
        {
          "output_type": "execute_result",
          "data": {
            "text/plain": [
              "Text(0, 0.5, 'Frequency')"
            ]
          },
          "metadata": {},
          "execution_count": 7
        },
        {
          "output_type": "display_data",
          "data": {
            "text/plain": [
              "<Figure size 432x288 with 1 Axes>"
            ],
            "image/png": "[encoded data removed]"
          },
          "metadata": {
            "needs_background": "light"
          }
        }
      ],
      "source": [
        "ax = movies[\"Worldwide_Gross\"].hist(bins=200)\n",
        "ax.set_xlabel(\"World wide gross\")\n",
        "ax.set_ylabel(\"Frequency\")"
      ]
    },
    {
      "cell_type": "markdown",
      "metadata": {
        "id": "hBwec0zvFdDQ"
      },
      "source": [
        "Maybe a bit more useful, but it doesn't tell anything about the data distribution above certain point. How about changing the vertical scale to logarithmic scale?"
      ]
    },
    {
      "cell_type": "code",
      "execution_count": 8,
      "metadata": {
        "id": "h2FpYMdrFdDR",
        "outputId": "f2b86685-a900-43d9-fd14-50a4df7df21e",
        "colab": {
          "base_uri": "https://localhost:8080/",
          "height": 297
        }
      },
      "outputs": [
        {
          "output_type": "execute_result",
          "data": {
            "text/plain": [
              "Text(0, 0.5, 'Frequency')"
            ]
          },
          "metadata": {},
          "execution_count": 8
        },
        {
          "output_type": "display_data",
          "data": {
            "text/plain": [
              "<Figure size 432x288 with 1 Axes>"
            ],
            "image/png": "[encoded data removed]"
          },
          "metadata": {
            "needs_background": "light"
          }
        }
      ],
      "source": [
        "ax = movies[\"Worldwide_Gross\"].hist(bins=200)\n",
        "ax.set_yscale('log')\n",
        "ax.set_xlabel(\"World wide gross\")\n",
        "ax.set_ylabel(\"Frequency\")"
      ]
    },
    {
      "cell_type": "markdown",
      "metadata": {
        "id": "zxUO951uFdDR"
      },
      "source": [
        "Now, let's try log-bin. Recall that when plotting histgrams we can specify the edges of bins through the `bins` parameter. For example, we can specify the edges of bins to [1, 2, 3, ... , 10] as follows.\n"
      ]
    },
    {
      "cell_type": "code",
      "execution_count": 9,
      "metadata": {
        "id": "ev0LG9AgFdDR",
        "jupyter": {
          "outputs_hidden": false
        },
        "outputId": "a3ce09a3-d944-404a-db5f-4a26f4a018c2",
        "colab": {
          "base_uri": "https://localhost:8080/",
          "height": 283
        }
      },
      "outputs": [
        {
          "output_type": "execute_result",
          "data": {
            "text/plain": [
              "<matplotlib.axes._subplots.AxesSubplot at 0x7f1570303550>"
            ]
          },
          "metadata": {},
          "execution_count": 9
        },
        {
          "output_type": "display_data",
          "data": {
            "text/plain": [
              "<Figure size 432x288 with 1 Axes>"
            ],
            "image/png": "[encoded data removed]"
          },
          "metadata": {
            "needs_background": "light"
          }
        }
      ],
      "source": [
        "movies[\"IMDB_Rating\"].hist(bins=range(0,11))"
      ]
    },
    {
      "cell_type": "markdown",
      "metadata": {
        "id": "yqGdymRVFdDS"
      },
      "source": [
        "Here, we can specify the edges of bins in a similar way. Instead of specifying on the linear scale, we do it on the log space. Some useful resources:\n",
        "\n",
        "* [Google query: python log-bin](https://www.google.com/webhp?sourceid=chrome-instant&ion=1&espv=2&ie=UTF-8#q=python+log-bin&pws=0)\n",
        "* [numpy.logspace](http://docs.scipy.org/doc/numpy/reference/generated/numpy.logspace.html)\n",
        "* [numpy.linspace vs numpy.logspace](http://stackoverflow.com/questions/31480033/difference-in-output-between-numpy-linspace-and-numpy-logspace)\n",
        "\n",
        "Hint: since $10^{\\text{start}} = \\text{min(Worldwide_Gross)}$, $\\text{start} = \\log_{10}(\\text{min(Worldwide_Gross)})$"
      ]
    },
    {
      "cell_type": "code",
      "execution_count": 10,
      "metadata": {
        "id": "DhrElVC1FdDS",
        "outputId": "3123ed05-3689-44a0-fc72-4df68350026d",
        "colab": {
          "base_uri": "https://localhost:8080/"
        }
      },
      "outputs": [
        {
          "output_type": "execute_result",
          "data": {
            "text/plain": [
              "0.0"
            ]
          },
          "metadata": {},
          "execution_count": 10
        }
      ],
      "source": [
        "min(movies[\"Worldwide_Gross\"])"
      ]
    },
    {
      "cell_type": "markdown",
      "metadata": {
        "id": "syjfeVu4FdDS"
      },
      "source": [
        "Because there seems to be movie(s) that made $0, and because log(0) is undefined & log(1) = 0, let's add 1 to the variable.  "
      ]
    },
    {
      "cell_type": "code",
      "execution_count": 11,
      "metadata": {
        "id": "ENVL7YZrFdDT"
      },
      "outputs": [],
      "source": [
        "movies[\"Worldwide_Gross\"] = movies[\"Worldwide_Gross\"]+1.0"
      ]
    },
    {
      "cell_type": "code",
      "execution_count": 12,
      "metadata": {
        "id": "OjHiC3_-FdDT",
        "outputId": "033e4fe4-07e7-4662-8829-2520c2180427",
        "colab": {
          "base_uri": "https://localhost:8080/",
          "height": 421
        }
      },
      "outputs": [
        {
          "output_type": "execute_result",
          "data": {
            "text/plain": [
              "(array([ 10.,   0.,   0.,   0.,   0.,   2.,   0.,   3.,   8.,  11.,  26.,\n",
              "         35.,  96., 218., 507., 644., 498., 185.,  12.]),\n",
              " array([1.00000000e+00, 3.14018485e+00, 9.86076088e+00, 3.09646119e+01,\n",
              "        9.72346052e+01, 3.05334634e+02, 9.58807191e+02, 3.01083182e+03,\n",
              "        9.45456845e+03, 2.96890926e+04, 9.32292387e+04, 2.92757043e+05,\n",
              "        9.19311230e+05, 2.88680720e+06, 9.06510822e+06, 2.84661155e+07,\n",
              "        8.93888645e+07, 2.80697558e+08, 8.81442219e+08, 2.76789150e+09]),\n",
              " <a list of 19 Patch objects>)"
            ]
          },
          "metadata": {},
          "execution_count": 12
        },
        {
          "output_type": "display_data",
          "data": {
            "text/plain": [
              "<Figure size 432x288 with 1 Axes>"
            ],
            "image/png": "[encoded data removed]"
          },
          "metadata": {
            "needs_background": "light"
          }
        }
      ],
      "source": [
        "# TODO: Replace the dummy value of bins using np.logspace.  \n",
        "# Create 20 bins that cover the whole range of the dataset. \n",
        "bins = [1.0, 2.0, 4.0]\n",
        "bins = np.logspace(np.log10(min(movies[\"Worldwide_Gross\"])),np.log10(max(movies[\"Worldwide_Gross\"])), 20)\n",
        "plt.hist(movies[\"Worldwide_Gross\"], bins=bins)"
      ]
    },
    {
      "cell_type": "markdown",
      "metadata": {
        "id": "2MoKtVlnFdDT"
      },
      "source": [
        "Now we can plot a histgram with log-bin. Set both axis to be log-scale. "
      ]
    },
    {
      "cell_type": "code",
      "execution_count": 13,
      "metadata": {
        "id": "TemQE6UBFdDU",
        "jupyter": {
          "outputs_hidden": false
        },
        "outputId": "dfdfc134-5ee2-41f6-b046-3934a4680ce7",
        "colab": {
          "base_uri": "https://localhost:8080/",
          "height": 301
        }
      },
      "outputs": [
        {
          "output_type": "execute_result",
          "data": {
            "text/plain": [
              "Text(0, 0.5, 'Frequency')"
            ]
          },
          "metadata": {},
          "execution_count": 13
        },
        {
          "output_type": "display_data",
          "data": {
            "text/plain": [
              "<Figure size 432x288 with 1 Axes>"
            ],
            "image/png": "[encoded data removed]"
          },
          "metadata": {
            "needs_background": "light"
          }
        }
      ],
      "source": [
        "ax = (movies[\"Worldwide_Gross\"]+1.0).hist(bins=bins)\n",
        "ax.set_yscale('log')\n",
        "ax.set_xscale('log')\n",
        "ax.set_xlabel(\"World wide gross\")\n",
        "ax.set_ylabel(\"Frequency\")"
      ]
    },
    {
      "cell_type": "markdown",
      "metadata": {
        "id": "pJZ-2b3sFdDU"
      },
      "source": [
        "What is going on? Is this the right plot?\n",
        "\n",
        "**Q: explain and fix**\n",
        "## The data in this plot isn't properly distributed, since the bins and frequencies are varying this is affecting the plot and misrepresenting the same and leaving an impression with higher bars. As we all know that the area of the bar in histogram represnt the frequencies and not the height. Thus we'll be fixing this by passing the density flag as true."
      ]
    },
    {
      "cell_type": "code",
      "execution_count": 14,
      "metadata": {
        "id": "sUp01d71FdDU",
        "jupyter": {
          "outputs_hidden": false
        },
        "outputId": "5a668aa2-9526-4a21-cf91-6f3a71aa08c4",
        "colab": {
          "base_uri": "https://localhost:8080/",
          "height": 301
        }
      },
      "outputs": [
        {
          "output_type": "execute_result",
          "data": {
            "text/plain": [
              "Text(0, 0.5, 'Frequency')"
            ]
          },
          "metadata": {},
          "execution_count": 14
        },
        {
          "output_type": "display_data",
          "data": {
            "text/plain": [
              "<Figure size 432x288 with 1 Axes>"
            ],
            "image/png": "[encoded data removed]"
          },
          "metadata": {
            "needs_background": "light"
          }
        }
      ],
      "source": [
        "# Implement\n",
        "ax = (movies[\"Worldwide_Gross\"]+1.0).hist(bins=bins, density=True)\n",
        "ax.set_yscale('log')\n",
        "ax.set_xscale('log')\n",
        "ax.set_xlabel(\"World wide gross\")\n",
        "ax.set_ylabel(\"Frequency\")\n"
      ]
    },
    {
      "cell_type": "markdown",
      "metadata": {
        "id": "IqrM7ufNFdDU"
      },
      "source": [
        "**Q: Can you explain the plot? Why are there gaps?**"
      ]
    },
    {
      "cell_type": "markdown",
      "source": [
        "###They have gaps between two bins since there are no data points in them, some bars might be \"absent\" reflecting no frequencies. This is because a histogram represents a continuous data set, and as such, there are no gaps in the data."
      ],
      "metadata": {
        "id": "HUdUlCCoB-dX"
      }
    },
    {
      "cell_type": "markdown",
      "metadata": {
        "id": "2w70ZBBFFdDV"
      },
      "source": [
        "## CCDF\n",
        "\n",
        "CCDF is a nice alternative to examine distributions with heavy tails. The idea is same as CDF, but the direction of aggregation is opposite. For a given value x, CCDF(x) is the number (fraction) of data points that are same or larger than x. To write code to draw CCDF, it'll be helpful to draw it by hand by using a very small, toy dataset. Draw it by hand and then think about how each point in the CCDF plot can be computed. \n",
        "\n",
        "**Q: Draw a CCDF of worldwide gross data in log-log scale**"
      ]
    },
    {
      "cell_type": "code",
      "execution_count": 15,
      "metadata": {
        "id": "bjgKDyA4FdDV",
        "outputId": "a8627b8f-6ced-4b83-a727-de1f7492ca6c",
        "colab": {
          "base_uri": "https://localhost:8080/",
          "height": 283
        }
      },
      "outputs": [
        {
          "output_type": "display_data",
          "data": {
            "text/plain": [
              "<Figure size 432x288 with 1 Axes>"
            ],
            "image/png": "[encoded data removed]"
          },
          "metadata": {
            "needs_background": "light"
          }
        }
      ],
      "source": [
        "from logging import log\n",
        "# TODO: Implement functionality mentioned above\n",
        "# You must replace the dummy values with the correct code. \n",
        "worldgross_sorted = movies['Worldwide_Gross']\n",
        "worldgross_sorted = np.sort(worldgross_sorted.dropna())\n",
        "cdf = worldgross_sorted.cumsum() / worldgross_sorted.sum()\n",
        "Y = 1 - cdf\n",
        "\n",
        "\n",
        "plt.plot(worldgross_sorted,Y, label='ccdf')\n",
        "plt.yscale(\"log\")\n",
        "plt.xscale(\"log\")\n",
        "plt.xlabel(\"worldwide gross\")\n",
        "plt.ylabel(\"CCDF\")\n",
        "plt.show()\n"
      ]
    },
    {
      "cell_type": "markdown",
      "metadata": {
        "id": "ODq6ng4nFdDV"
      },
      "source": [
        "We can also try in semilog scale (only one axis is in a log-scale), where the horizontal axis is linear. "
      ]
    },
    {
      "cell_type": "code",
      "execution_count": 16,
      "metadata": {
        "id": "IWO1Rr3QFdDW",
        "outputId": "3e6a7cbc-92cf-4737-ec3a-8d1c41011ca8",
        "colab": {
          "base_uri": "https://localhost:8080/",
          "height": 279
        }
      },
      "outputs": [
        {
          "output_type": "display_data",
          "data": {
            "text/plain": [
              "<Figure size 432x288 with 1 Axes>"
            ],
            "image/png": "[encoded data removed]"
          },
          "metadata": {
            "needs_background": "light"
          }
        }
      ],
      "source": [
        "plt.xlabel(\"World wide gross\")\n",
        "plt.ylabel(\"CCDF\")\n",
        "plt.yscale('log')\n",
        "plt.plot(worldgross_sorted,Y)\n",
        "plt.show()"
      ]
    },
    {
      "cell_type": "markdown",
      "metadata": {
        "id": "KsJNpR2iFdDW"
      },
      "source": [
        "A straight line in semilog scale means exponential decay (cf. a straight line in log-log scale means power-law decay). So it seems like the amount of money a movie makes across the world follows *roughly* an exponential distribution, while there are some outliers that make insane amount of money. \n",
        "\n",
        "**Q: Which is the most successful movie in our dataset?**\n",
        "\n",
        "You can use the following\n",
        "\n",
        "- `idxmax()`: https://pandas.pydata.org/pandas-docs/stable/generated/pandas.DataFrame.idxmax.html\n",
        "- `loc`: https://pandas.pydata.org/pandas-docs/stable/generated/pandas.DataFrame.loc.html"
      ]
    },
    {
      "cell_type": "code",
      "execution_count": 17,
      "metadata": {
        "id": "31LoBnxvFdDW",
        "colab": {
          "base_uri": "https://localhost:8080/"
        },
        "outputId": "2e614e2d-4caa-4004-bc9e-c8896e424cdc"
      },
      "outputs": [
        {
          "output_type": "stream",
          "name": "stdout",
          "text": [
            "Title                                  Avatar\n",
            "US_Gross                          760167650.0\n",
            "Worldwide_Gross                  2767891500.0\n",
            "US_DVD_Sales                      146153933.0\n",
            "Production_Budget                 237000000.0\n",
            "Release_Date                      Dec 18 2009\n",
            "MPAA_Rating                             PG-13\n",
            "Running_Time_min                          NaN\n",
            "Distributor                  20th Century Fox\n",
            "Source                    Original Screenplay\n",
            "Major_Genre                            Action\n",
            "Creative_Type                 Science Fiction\n",
            "Director                        James Cameron\n",
            "Rotten_Tomatoes_Rating                   83.0\n",
            "IMDB_Rating                               8.3\n",
            "IMDB_Votes                           261439.0\n",
            "Name: 1234, dtype: object\n"
          ]
        }
      ],
      "source": [
        "# Implement\n",
        "print(movies.loc[movies['Worldwide_Gross'].idxmax()])"
      ]
    },
    {
      "cell_type": "code",
      "execution_count": 17,
      "metadata": {
        "id": "eRh9820HFdDX"
      },
      "outputs": [],
      "source": []
    }
  ],
  "metadata": {
    "anaconda-cloud": {},
    "colab": {
      "collapsed_sections": [],
      "provenance": []
    },
    "kernel_info": {
      "name": "python3"
    },
    "kernelspec": {
      "display_name": "Python 3.10.4 64-bit",
      "language": "python",
      "name": "python3"
    },
    "language_info": {
      "codemirror_mode": {
        "name": "ipython",
        "version": 3
      },
      "file_extension": ".py",
      "mimetype": "text/x-python",
      "name": "python",
      "nbconvert_exporter": "python",
      "pygments_lexer": "ipython3",
      "version": "3.10.4"
    },
    "nteract": {
      "version": "0.23.3"
    },
    "vscode": {
      "interpreter": {
        "hash": "31f2aee4e71d21fbe5cf8b01ff0e069b9275f58929596ceb00d14d90e3e16cd6"
      }
    }
  },
  "nbformat": 4,
  "nbformat_minor": 0
}