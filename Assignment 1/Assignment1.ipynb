{
  "nbformat": 4,
  "nbformat_minor": 0,
  "metadata": {
    "colab": {
      "name": "Assignment1.ipynb",
      "provenance": []
    },
    "kernelspec": {
      "name": "python3",
      "display_name": "Python 3"
    },
    "language_info": {
      "name": "python"
    }
  },
  "cells": [
    {
      "cell_type": "code",
      "source": [
        "!pip install datashader"
      ],
      "metadata": {
        "colab": {
          "base_uri": "https://localhost:8080/"
        },
        "id": "WaY4eec2TRvU",
        "outputId": "a964d1d2-1f43-4d99-82bc-de73cc5e999e"
      },
      "execution_count": 3,
      "outputs": [
        {
          "output_type": "stream",
          "name": "stdout",
          "text": [
            "Looking in indexes: https://pypi.org/simple, https://us-python.pkg.dev/colab-wheels/public/simple/\n",
            "Collecting datashader\n",
            "  Downloading datashader-0.14.2-py2.py3-none-any.whl (18.2 MB)\n",
            "\u001b[K     |████████████████████████████████| 18.2 MB 679 kB/s \n",
            "\u001b[?25hRequirement already satisfied: pillow>=3.1.1 in /usr/local/lib/python3.7/dist-packages (from datashader) (7.1.2)\n",
            "Requirement already satisfied: colorcet>=0.9.0 in /usr/local/lib/python3.7/dist-packages (from datashader) (3.0.0)\n",
            "Requirement already satisfied: pandas>=0.24.1 in /usr/local/lib/python3.7/dist-packages (from datashader) (1.3.5)\n",
            "Collecting datashape>=0.5.1\n",
            "  Downloading datashape-0.5.2.tar.gz (76 kB)\n",
            "\u001b[K     |████████████████████████████████| 76 kB 5.6 MB/s \n",
            "\u001b[?25hRequirement already satisfied: dask[complete] in /usr/local/lib/python3.7/dist-packages (from datashader) (2022.2.0)\n",
            "Requirement already satisfied: xarray>=0.9.6 in /usr/local/lib/python3.7/dist-packages (from datashader) (0.20.2)\n",
            "Requirement already satisfied: pyct>=0.4.5 in /usr/local/lib/python3.7/dist-packages (from datashader) (0.4.8)\n",
            "Requirement already satisfied: param>=1.6.1 in /usr/local/lib/python3.7/dist-packages (from datashader) (1.12.2)\n",
            "Requirement already satisfied: requests in /usr/local/lib/python3.7/dist-packages (from datashader) (2.23.0)\n",
            "Requirement already satisfied: scipy in /usr/local/lib/python3.7/dist-packages (from datashader) (1.7.3)\n",
            "Requirement already satisfied: numba>=0.51 in /usr/local/lib/python3.7/dist-packages (from datashader) (0.56.0)\n",
            "Requirement already satisfied: numpy>=1.7 in /usr/local/lib/python3.7/dist-packages (from datashape>=0.5.1->datashader) (1.21.6)\n",
            "Requirement already satisfied: multipledispatch>=0.4.7 in /usr/local/lib/python3.7/dist-packages (from datashape>=0.5.1->datashader) (0.6.0)\n",
            "Requirement already satisfied: python-dateutil in /usr/local/lib/python3.7/dist-packages (from datashape>=0.5.1->datashader) (2.8.2)\n",
            "Requirement already satisfied: six in /usr/local/lib/python3.7/dist-packages (from multipledispatch>=0.4.7->datashape>=0.5.1->datashader) (1.15.0)\n",
            "Requirement already satisfied: importlib-metadata in /usr/local/lib/python3.7/dist-packages (from numba>=0.51->datashader) (4.12.0)\n",
            "Requirement already satisfied: setuptools in /usr/local/lib/python3.7/dist-packages (from numba>=0.51->datashader) (57.4.0)\n",
            "Requirement already satisfied: llvmlite<0.40,>=0.39.0dev0 in /usr/local/lib/python3.7/dist-packages (from numba>=0.51->datashader) (0.39.0)\n",
            "Requirement already satisfied: pytz>=2017.3 in /usr/local/lib/python3.7/dist-packages (from pandas>=0.24.1->datashader) (2022.2.1)\n",
            "Requirement already satisfied: typing-extensions>=3.7 in /usr/local/lib/python3.7/dist-packages (from xarray>=0.9.6->datashader) (4.1.1)\n",
            "Requirement already satisfied: partd>=0.3.10 in /usr/local/lib/python3.7/dist-packages (from dask[complete]->datashader) (1.3.0)\n",
            "Requirement already satisfied: cloudpickle>=1.1.1 in /usr/local/lib/python3.7/dist-packages (from dask[complete]->datashader) (1.5.0)\n",
            "Requirement already satisfied: toolz>=0.8.2 in /usr/local/lib/python3.7/dist-packages (from dask[complete]->datashader) (0.12.0)\n",
            "Requirement already satisfied: packaging>=20.0 in /usr/local/lib/python3.7/dist-packages (from dask[complete]->datashader) (21.3)\n",
            "Requirement already satisfied: fsspec>=0.6.0 in /usr/local/lib/python3.7/dist-packages (from dask[complete]->datashader) (2022.7.1)\n",
            "Requirement already satisfied: pyyaml>=5.3.1 in /usr/local/lib/python3.7/dist-packages (from dask[complete]->datashader) (6.0)\n",
            "Requirement already satisfied: distributed==2022.02.0 in /usr/local/lib/python3.7/dist-packages (from dask[complete]->datashader) (2022.2.0)\n",
            "Requirement already satisfied: jinja2 in /usr/local/lib/python3.7/dist-packages (from dask[complete]->datashader) (2.11.3)\n",
            "Requirement already satisfied: bokeh>=2.1.1 in /usr/local/lib/python3.7/dist-packages (from dask[complete]->datashader) (2.3.3)\n",
            "Requirement already satisfied: tornado>=5 in /usr/local/lib/python3.7/dist-packages (from distributed==2022.02.0->dask[complete]->datashader) (5.1.1)\n",
            "Requirement already satisfied: msgpack>=0.6.0 in /usr/local/lib/python3.7/dist-packages (from distributed==2022.02.0->dask[complete]->datashader) (1.0.4)\n",
            "Requirement already satisfied: sortedcontainers!=2.0.0,!=2.0.1 in /usr/local/lib/python3.7/dist-packages (from distributed==2022.02.0->dask[complete]->datashader) (2.4.0)\n",
            "Requirement already satisfied: tblib>=1.6.0 in /usr/local/lib/python3.7/dist-packages (from distributed==2022.02.0->dask[complete]->datashader) (1.7.0)\n",
            "Requirement already satisfied: click>=6.6 in /usr/local/lib/python3.7/dist-packages (from distributed==2022.02.0->dask[complete]->datashader) (7.1.2)\n",
            "Requirement already satisfied: psutil>=5.0 in /usr/local/lib/python3.7/dist-packages (from distributed==2022.02.0->dask[complete]->datashader) (5.4.8)\n",
            "Requirement already satisfied: zict>=0.1.3 in /usr/local/lib/python3.7/dist-packages (from distributed==2022.02.0->dask[complete]->datashader) (2.2.0)\n",
            "Requirement already satisfied: MarkupSafe>=0.23 in /usr/local/lib/python3.7/dist-packages (from jinja2->dask[complete]->datashader) (2.0.1)\n",
            "Requirement already satisfied: pyparsing!=3.0.5,>=2.0.2 in /usr/local/lib/python3.7/dist-packages (from packaging>=20.0->dask[complete]->datashader) (3.0.9)\n",
            "Requirement already satisfied: locket in /usr/local/lib/python3.7/dist-packages (from partd>=0.3.10->dask[complete]->datashader) (1.0.0)\n",
            "Requirement already satisfied: heapdict in /usr/local/lib/python3.7/dist-packages (from zict>=0.1.3->distributed==2022.02.0->dask[complete]->datashader) (1.0.1)\n",
            "Requirement already satisfied: zipp>=0.5 in /usr/local/lib/python3.7/dist-packages (from importlib-metadata->numba>=0.51->datashader) (3.8.1)\n",
            "Requirement already satisfied: certifi>=2017.4.17 in /usr/local/lib/python3.7/dist-packages (from requests->datashader) (2022.6.15)\n",
            "Requirement already satisfied: idna<3,>=2.5 in /usr/local/lib/python3.7/dist-packages (from requests->datashader) (2.10)\n",
            "Requirement already satisfied: chardet<4,>=3.0.2 in /usr/local/lib/python3.7/dist-packages (from requests->datashader) (3.0.4)\n",
            "Requirement already satisfied: urllib3!=1.25.0,!=1.25.1,<1.26,>=1.21.1 in /usr/local/lib/python3.7/dist-packages (from requests->datashader) (1.24.3)\n",
            "Building wheels for collected packages: datashape\n",
            "  Building wheel for datashape (setup.py) ... \u001b[?25l\u001b[?25hdone\n",
            "  Created wheel for datashape: filename=datashape-0.5.2-py3-none-any.whl size=59438 sha256=23d8986211f1bb8a8abaf79c2addfb7e85f1a906bfa41a7ed786c42111947519\n",
            "  Stored in directory: /root/.cache/pip/wheels/b5/b7/80/333a5c3312ed4cd54f5d5b869868c14e0c6002cb5c7238b52d\n",
            "Successfully built datashape\n",
            "Installing collected packages: datashape, datashader\n",
            "Successfully installed datashader-0.14.2 datashape-0.5.2\n"
          ]
        }
      ]
    },
    {
      "cell_type": "code",
      "source": [
        "import numpy\n",
        "import scipy\n",
        "import matplotlib\n",
        "import seaborn\n",
        "import pandas\n",
        "import altair\n",
        "import vega_datasets\n",
        "import sklearn\n",
        "import bokeh\n",
        "import datashader\n",
        "import holoviews\n",
        "import wordcloud\n",
        "import spacy"
      ],
      "metadata": {
        "id": "9sfwuOR3TTaq"
      },
      "execution_count": 4,
      "outputs": []
    },
    {
      "cell_type": "code",
      "source": [
        "print(\"Hello World\")"
      ],
      "metadata": {
        "colab": {
          "base_uri": "https://localhost:8080/"
        },
        "id": "mLgpwyrLTowN",
        "outputId": "8b1b4867-e457-4a64-b111-f762086bdd52"
      },
      "execution_count": 5,
      "outputs": [
        {
          "output_type": "stream",
          "name": "stdout",
          "text": [
            "Hello World\n"
          ]
        }
      ]
    }
  ]
}